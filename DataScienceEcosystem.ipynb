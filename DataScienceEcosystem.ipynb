{
 "cells": [
  {
   "cell_type": "markdown",
   "id": "462dec16-556c-47b5-9f86-324efccbf91f",
   "metadata": {},
   "source": [
    "# Data Science Tools and Ecosystem"
   ]
  },
  {
   "cell_type": "markdown",
   "id": "a168e5fd-52af-46b8-af10-59c7f93fc4bd",
   "metadata": {},
   "source": [
    "In this notebook, Data Science Tools and Ecosystem are summarized."
   ]
  },
  {
   "cell_type": "markdown",
   "id": "85c51b66-9641-43f4-b963-917ff137c920",
   "metadata": {},
   "source": [
    " <b>Objectives: <b>\n",
    " -   List popular languages for Data Science\n",
    " -   List popular libraries for Data Science\n",
    " -   List popular Data Science tools"
   ]
  },
  {
   "cell_type": "markdown",
   "id": "c388c3a3-a4be-478e-937b-b8c05960f0e1",
   "metadata": {},
   "source": [
    "Some of the popular languages that Data Scientists use are:\n",
    "1. Python\n",
    "2. R\n",
    "3. SQL"
   ]
  },
  {
   "cell_type": "markdown",
   "id": "75c95b1a-db51-4a6a-a0c9-c17d73aa5973",
   "metadata": {},
   "source": [
    "Some of the commonly used libraries used by Data Scientists include:\n",
    "1. numpy\n",
    "2. pandas\n",
    "3. ggplot"
   ]
  },
  {
   "cell_type": "markdown",
   "id": "955234b3-5127-4266-b416-91085003932f",
   "metadata": {},
   "source": [
    "| Data Science Tools |\n",
    "|:--------:|\n",
    "|  Gitlab  | \n",
    "|  Hadoop  |\n",
    "|  Spark   |  "
   ]
  },
  {
   "cell_type": "markdown",
   "id": "b2f9c907-4a22-419b-afb3-6460460f41c0",
   "metadata": {},
   "source": [
    "### Below are a few examples of evaluating arithmetic expressions in Python"
   ]
  },
  {
   "cell_type": "code",
   "execution_count": 11,
   "id": "2e25a495-2af0-46e1-b0ef-7cc208f240ec",
   "metadata": {},
   "outputs": [
    {
     "data": {
      "text/plain": [
       "17"
      ]
     },
     "execution_count": 11,
     "metadata": {},
     "output_type": "execute_result"
    }
   ],
   "source": [
    "# This a simple arithmetic expression to mutiply then add integers\n",
    "(3*4)+5"
   ]
  },
  {
   "cell_type": "code",
   "execution_count": 13,
   "id": "15aff8a6-ef32-4868-a65c-e377421496f5",
   "metadata": {},
   "outputs": [
    {
     "data": {
      "text/plain": [
       "3.3333333333333335"
      ]
     },
     "execution_count": 13,
     "metadata": {},
     "output_type": "execute_result"
    }
   ],
   "source": [
    "# This will convert 200 minutes to hours by diving by 60\n",
    "200/60"
   ]
  },
  {
   "cell_type": "markdown",
   "id": "8884a8ea-5905-478e-8798-a8107bbafb01",
   "metadata": {},
   "source": [
    "## Author\n",
    "Robin"
   ]
  },
  {
   "cell_type": "code",
   "execution_count": null,
   "id": "457bcd5d-1da2-4816-b800-71b57d1ffeb4",
   "metadata": {},
   "outputs": [],
   "source": []
  }
 ],
 "metadata": {
  "kernelspec": {
   "display_name": "Python 3 (ipykernel)",
   "language": "python",
   "name": "python3"
  },
  "language_info": {
   "codemirror_mode": {
    "name": "ipython",
    "version": 3
   },
   "file_extension": ".py",
   "mimetype": "text/x-python",
   "name": "python",
   "nbconvert_exporter": "python",
   "pygments_lexer": "ipython3",
   "version": "3.12.7"
  }
 },
 "nbformat": 4,
 "nbformat_minor": 5
}
